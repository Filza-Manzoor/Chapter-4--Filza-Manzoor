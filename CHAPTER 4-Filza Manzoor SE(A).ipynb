{
 "cells": [
  {
   "cell_type": "markdown",
   "metadata": {},
   "source": [
    "# CHAPTER 4-Filza Manzoor SE(A)"
   ]
  },
  {
   "cell_type": "markdown",
   "metadata": {},
   "source": [
    "# PRACTICE PROBLEMS"
   ]
  },
  {
   "cell_type": "markdown",
   "metadata": {},
   "source": [
    "## 4.1"
   ]
  },
  {
   "cell_type": "markdown",
   "metadata": {},
   "source": [
    "Start by executing the assignment:\n",
    "s = '0123456789'\n",
    "Now write expressions using string s and the indexing operator that evaluate to:\n",
    "\n"
   ]
  },
  {
   "cell_type": "markdown",
   "metadata": {},
   "source": [
    "(a) '234'\n"
   ]
  },
  {
   "cell_type": "code",
   "execution_count": 1,
   "metadata": {},
   "outputs": [
    {
     "name": "stdout",
     "output_type": "stream",
     "text": [
      "234\n"
     ]
    }
   ],
   "source": [
    "s='0123456789'\n",
    "print(s[2:5])"
   ]
  },
  {
   "cell_type": "markdown",
   "metadata": {},
   "source": [
    "(b) '78'\n"
   ]
  },
  {
   "cell_type": "code",
   "execution_count": 2,
   "metadata": {},
   "outputs": [
    {
     "name": "stdout",
     "output_type": "stream",
     "text": [
      "78\n"
     ]
    }
   ],
   "source": [
    "s='0123456789'\n",
    "print(s[-3:-1])"
   ]
  },
  {
   "cell_type": "markdown",
   "metadata": {},
   "source": [
    "(c) '1234567'\n",
    "\n"
   ]
  },
  {
   "cell_type": "code",
   "execution_count": 3,
   "metadata": {},
   "outputs": [
    {
     "name": "stdout",
     "output_type": "stream",
     "text": [
      "1234567\n"
     ]
    }
   ],
   "source": [
    "s='0123456789'\n",
    "print(s[1:8])"
   ]
  },
  {
   "cell_type": "markdown",
   "metadata": {},
   "source": [
    "(d) '0123'\n"
   ]
  },
  {
   "cell_type": "code",
   "execution_count": 4,
   "metadata": {},
   "outputs": [
    {
     "name": "stdout",
     "output_type": "stream",
     "text": [
      "123\n"
     ]
    }
   ],
   "source": [
    "s='0123456789'\n",
    "print(s[1:4])"
   ]
  },
  {
   "cell_type": "markdown",
   "metadata": {},
   "source": [
    "(e) '789' "
   ]
  },
  {
   "cell_type": "code",
   "execution_count": 5,
   "metadata": {},
   "outputs": [
    {
     "name": "stdout",
     "output_type": "stream",
     "text": [
      "789\n"
     ]
    }
   ],
   "source": [
    "s='0123456789'\n",
    "print(s[-3:])"
   ]
  },
  {
   "cell_type": "markdown",
   "metadata": {},
   "source": [
    "## 4.2 "
   ]
  },
  {
   "cell_type": "markdown",
   "metadata": {},
   "source": [
    "Assuming that variable forecast has been assigned string\n",
    "'It will be a sunny day today'\n",
    "write Python statements corresponding to these assignments:\n"
   ]
  },
  {
   "cell_type": "markdown",
   "metadata": {},
   "source": [
    "(a) To variable count, the number of occurrences of string 'day' in string forecast.\n"
   ]
  },
  {
   "cell_type": "code",
   "execution_count": 6,
   "metadata": {},
   "outputs": [
    {
     "data": {
      "text/plain": [
       "2"
      ]
     },
     "execution_count": 6,
     "metadata": {},
     "output_type": "execute_result"
    }
   ],
   "source": [
    "forecast=\"'It will be a sunny day today'\"\n",
    "forecast.count('day')"
   ]
  },
  {
   "cell_type": "markdown",
   "metadata": {},
   "source": [
    "(b) To variable weather, the index where substring 'sunny' starts.\n"
   ]
  },
  {
   "cell_type": "code",
   "execution_count": 7,
   "metadata": {},
   "outputs": [
    {
     "data": {
      "text/plain": [
       "14"
      ]
     },
     "execution_count": 7,
     "metadata": {},
     "output_type": "execute_result"
    }
   ],
   "source": [
    "forecast=\"'It will be a sunny day today'\"\n",
    "forecast.find('sunny')"
   ]
  },
  {
   "cell_type": "markdown",
   "metadata": {},
   "source": [
    "(c) To variable change, a copy of forecast in which every occurrence of substring\n",
    "'sunny' is replaced by 'cloudy'."
   ]
  },
  {
   "cell_type": "code",
   "execution_count": 8,
   "metadata": {},
   "outputs": [
    {
     "data": {
      "text/plain": [
       "\"'It will be a cloudy day today'\""
      ]
     },
     "execution_count": 8,
     "metadata": {},
     "output_type": "execute_result"
    }
   ],
   "source": [
    "forecast=\"'It will be a sunny day today'\"\n",
    "forecast.replace('sunny','cloudy')"
   ]
  },
  {
   "cell_type": "markdown",
   "metadata": {},
   "source": [
    "## 4.3 "
   ]
  },
  {
   "cell_type": "markdown",
   "metadata": {},
   "source": [
    "Write a statement that prints the values of variables last, first, and middle in one line,\n",
    "separated by a horizontal tab character. (The Python escape sequence for the horizontal tab\n",
    "character is \\t.) "
   ]
  },
  {
   "cell_type": "code",
   "execution_count": 9,
   "metadata": {},
   "outputs": [
    {
     "name": "stdout",
     "output_type": "stream",
     "text": [
      "Smith\tJohn\tPaul\n"
     ]
    }
   ],
   "source": [
    "l_name = 'Smith'\n",
    "f_name = 'John'\n",
    "mid_name = 'Paul'\n",
    "print(l_name, f_name, mid_name, sep='\\t')\n"
   ]
  },
  {
   "cell_type": "markdown",
   "metadata": {},
   "source": [
    "# 4.4"
   ]
  },
  {
   "cell_type": "markdown",
   "metadata": {},
   "source": [
    "Write function even() that takes a positive integer n as input and prints on the screen all\n",
    "numbers between, and including, 2 and n divisible by 2 or by 3, using this output format:\n"
   ]
  },
  {
   "cell_type": "code",
   "execution_count": 203,
   "metadata": {},
   "outputs": [
    {
     "name": "stdout",
     "output_type": "stream",
     "text": [
      "Enter a number: 2,3,4,5\n",
      "2\n",
      "3\n",
      "4\n"
     ]
    }
   ],
   "source": [
    "def even():\n",
    "    n=eval(input(\"Enter a number: \"))\n",
    "    for i in n:\n",
    "        if i % 2==0 or i % 3==0:\n",
    "            print (i)\n",
    "        else:\n",
    "            pass \n",
    "   \n",
    "even()"
   ]
  },
  {
   "cell_type": "markdown",
   "metadata": {},
   "source": [
    "# 4.5\n",
    "Assume variables first, last, street, number, city, state, zipcode have already\n",
    "been assigned. Write a print statement that creates a mailing label:\n",
    "John Doe\n",
    "123 Main Street\n",
    "AnyCity, AS 09876"
   ]
  },
  {
   "cell_type": "code",
   "execution_count": 222,
   "metadata": {},
   "outputs": [
    {
     "name": "stdout",
     "output_type": "stream",
     "text": [
      "John Doe\n",
      "123 Main Street\n",
      "AnyCity, AS 09876\n"
     ]
    }
   ],
   "source": [
    "first = 'John'\n",
    "last = 'Doe'\n",
    "street = 'Main Street'\n",
    "number = '123'\n",
    "city = 'AnyCity'\n",
    "state = 'AS'\n",
    "zipcode = '09876'\n",
    "\n",
    "print(first+\" \"+last +\"\\n\"+number +\" \"+ street + \"\\n\"+city + \",\" + \" \"+state + \" \" +zipcode)"
   ]
  },
  {
   "cell_type": "markdown",
   "metadata": {},
   "source": [
    "# 4.6"
   ]
  },
  {
   "cell_type": "markdown",
   "metadata": {},
   "source": [
    "Implement function roster() that takes a list containing student information and prints\n",
    "out a roster, as shown below. The student information, consisting of the student’s last name,\n",
    "first name, class, and average course grade, will be stored in that order in a list. Therefore,\n",
    "the input list is a list of lists. Make sure the roster printed out has 10 slots for every string\n",
    "value and 8 for the grade, including 2 slots for the decimal part."
   ]
  },
  {
   "cell_type": "code",
   "execution_count": 40,
   "metadata": {},
   "outputs": [
    {
     "name": "stdout",
     "output_type": "stream",
     "text": [
      "Last       First      Class       Average Grade\n",
      "Joe        Susan      sophomore      3.45\n",
      "Mark       Kristey    freshmen       4.00\n",
      "Peter      Parker     Junior         2.50\n",
      "Kristoff   Mason      sophomore      2.45\n",
      "Helen      Gordon     senior         3.99\n"
     ]
    }
   ],
   "source": [
    "def roster(listy):\n",
    "    l_names=['Joe','Mark', 'Peter', 'Kristoff','Helen']\n",
    "    f_names=['Susan','Kristey','Parker','Mason','Gordon']\n",
    "    grade=['sophomore','freshmen','Junior','sophomore','senior']\n",
    "    avg=[ 3.45, 4.00,2.50, 2.45, 3.99]\n",
    "    print('Last       First      Class       Average Grade')\n",
    "    print(\"{:10} {:10} {:10} {:8.2f}\".format(l_names[0],f_names[0],grade[0],avg[0]))\n",
    "    print(\"{:10} {:10} {:10} {:8.2f}\".format(l_names[1],f_names[1],grade[1],avg[1]))\n",
    "    print(\"{:10} {:10} {:10} {:8.2f}\".format(l_names[2],f_names[2],grade[2],avg[2]))\n",
    "    print(\"{:10} {:10} {:10} {:8.2f}\".format(l_names[3],f_names[3],grade[3],avg[3]))\n",
    "    print(\"{:10} {:10} {:10} {:8.2f}\".format(l_names[4],f_names[4],grade[4],avg[4]))\n",
    "   \n",
    "roster('listy')"
   ]
  },
  {
   "cell_type": "markdown",
   "metadata": {},
   "source": [
    "# 4.7"
   ]
  },
  {
   "cell_type": "markdown",
   "metadata": {},
   "source": [
    "Start by setting t to be the local time 1, 500, 000, 000 seconds from the start of January 1,\n",
    "1970 UTC:\n",
    "\n",
    "Construct the next strings by using the string time format function strftime():\n"
   ]
  },
  {
   "cell_type": "markdown",
   "metadata": {},
   "source": [
    "(a) 'Thursday, July 13 2017'"
   ]
  },
  {
   "cell_type": "code",
   "execution_count": 11,
   "metadata": {},
   "outputs": [
    {
     "data": {
      "text/plain": [
       "'Tuesday, December 03 2019'"
      ]
     },
     "execution_count": 11,
     "metadata": {},
     "output_type": "execute_result"
    }
   ],
   "source": [
    "import time\n",
    "t = time.localtime()\n",
    "time.strftime('%A, %B %d %Y', t)\n"
   ]
  },
  {
   "cell_type": "markdown",
   "metadata": {},
   "source": [
    "(b) '09:40 PM Central Daylight Time on 07/13/2017'"
   ]
  },
  {
   "cell_type": "code",
   "execution_count": 12,
   "metadata": {},
   "outputs": [
    {
     "data": {
      "text/plain": [
       "'04:AM Pakistan Standard Time on  12/03/2019'"
      ]
     },
     "execution_count": 12,
     "metadata": {},
     "output_type": "execute_result"
    }
   ],
   "source": [
    "import time\n",
    "t = time.localtime()\n",
    "time.strftime('%H:%p %Z on  %m/%d/%Y', t)"
   ]
  },
  {
   "cell_type": "markdown",
   "metadata": {},
   "source": [
    "(c) 'I will meet you on Thu July 13 at 09:40 PM.'"
   ]
  },
  {
   "cell_type": "code",
   "execution_count": 13,
   "metadata": {},
   "outputs": [
    {
     "data": {
      "text/plain": [
       "'I will meet you on Tue 12 03 on  04:28 AM'"
      ]
     },
     "execution_count": 13,
     "metadata": {},
     "output_type": "execute_result"
    }
   ],
   "source": [
    "import time\n",
    "t = time.localtime()\n",
    "time.strftime(\"I will meet you on \"'%a %m %d on  %H:%M %p', t)"
   ]
  },
  {
   "cell_type": "markdown",
   "metadata": {},
   "source": [
    "# 4.8"
   ]
  },
  {
   "cell_type": "markdown",
   "metadata": {},
   "source": [
    "Write function stringCount() that takes two string inputs—a file name and a target string—\n",
    "and returns the number of occurrences of the target string in the file.\n"
   ]
  },
  {
   "cell_type": "code",
   "execution_count": 12,
   "metadata": {},
   "outputs": [
    {
     "data": {
      "text/plain": [
       "2"
      ]
     },
     "execution_count": 12,
     "metadata": {},
     "output_type": "execute_result"
    }
   ],
   "source": [
    "def stringCount(name,target):\n",
    "    file=open(name,'r')\n",
    "    content=file.read()\n",
    "    file.close()\n",
    "    count=0\n",
    "    count=count+1\n",
    "    return content.count(target)\n",
    "\n",
    "stringCount('sample.txt','far')\n",
    "    "
   ]
  },
  {
   "cell_type": "markdown",
   "metadata": {},
   "source": [
    "# 4.9\n",
    "Write function words() that takes one input argument—a file name—and returns the list\n",
    "of actual words (without punctuation symbols !,.:;?) in the file."
   ]
  },
  {
   "cell_type": "code",
   "execution_count": 52,
   "metadata": {
    "scrolled": true
   },
   "outputs": [
    {
     "data": {
      "text/plain": [
       "['Far',\n",
       " 'far',\n",
       " 'away,',\n",
       " 'behind',\n",
       " 'the',\n",
       " 'word',\n",
       " 'mountains,',\n",
       " 'far',\n",
       " 'from',\n",
       " 'the',\n",
       " 'countries',\n",
       " 'Vokalia',\n",
       " 'and',\n",
       " 'Consonantia,',\n",
       " 'there',\n",
       " 'live',\n",
       " 'the',\n",
       " 'blind',\n",
       " 'texts.',\n",
       " 'Separated',\n",
       " 'they',\n",
       " 'live',\n",
       " 'in',\n",
       " 'Bookmarksgrove',\n",
       " 'right',\n",
       " 'at',\n",
       " 'the',\n",
       " 'coast',\n",
       " 'of',\n",
       " 'the',\n",
       " 'Semantics,',\n",
       " 'a',\n",
       " 'large',\n",
       " 'language',\n",
       " 'ocean.',\n",
       " 'A',\n",
       " 'small',\n",
       " 'river',\n",
       " 'named',\n",
       " 'Duden',\n",
       " 'flows',\n",
       " 'by',\n",
       " 'their',\n",
       " 'place',\n",
       " 'and',\n",
       " 'supplies',\n",
       " 'it',\n",
       " 'with',\n",
       " 'the',\n",
       " 'necessary',\n",
       " 'regelialia.',\n",
       " 'It',\n",
       " 'is',\n",
       " 'a',\n",
       " 'paradisematic',\n",
       " 'country,',\n",
       " 'in',\n",
       " 'which',\n",
       " 'roasted',\n",
       " 'parts',\n",
       " 'of',\n",
       " 'sentences',\n",
       " 'fly',\n",
       " 'into',\n",
       " 'your',\n",
       " 'mouth.']"
      ]
     },
     "execution_count": 52,
     "metadata": {},
     "output_type": "execute_result"
    }
   ],
   "source": [
    "def words(filename):\n",
    "    file=open(filename,'r')\n",
    "    inside= file.read()\n",
    "    file.close()\n",
    "    wordings=inside.split()\n",
    "    return wordings\n",
    "words('sample.txt')\n"
   ]
  },
  {
   "cell_type": "markdown",
   "metadata": {},
   "source": [
    "# 4.10\n",
    "Implement function myGrep() that takes as input two strings, a file name and a target string,\n",
    "and prints every line of the file that contains the target string as a substring."
   ]
  },
  {
   "cell_type": "code",
   "execution_count": null,
   "metadata": {},
   "outputs": [],
   "source": []
  },
  {
   "cell_type": "markdown",
   "metadata": {},
   "source": [
    "# 4.11\n",
    "theory"
   ]
  },
  {
   "cell_type": "markdown",
   "metadata": {},
   "source": [
    "# EXERCISES"
   ]
  },
  {
   "cell_type": "markdown",
   "metadata": {},
   "source": [
    "## 4.12"
   ]
  },
  {
   "cell_type": "markdown",
   "metadata": {},
   "source": [
    "Start by running, in the interactive shell, this assignment statement:\n",
    "s = 'abcdefghijklmnopqrstuvwxyz'\n"
   ]
  },
  {
   "cell_type": "markdown",
   "metadata": {},
   "source": [
    "(a) 'bcd',\n"
   ]
  },
  {
   "cell_type": "code",
   "execution_count": 14,
   "metadata": {},
   "outputs": [
    {
     "data": {
      "text/plain": [
       "'bcd'"
      ]
     },
     "execution_count": 14,
     "metadata": {},
     "output_type": "execute_result"
    }
   ],
   "source": [
    "s ='abcdefghijklmnopqrstuvwxyz'\n",
    "s[1:4]"
   ]
  },
  {
   "cell_type": "markdown",
   "metadata": {},
   "source": [
    "(b)'abc'\n"
   ]
  },
  {
   "cell_type": "code",
   "execution_count": 15,
   "metadata": {},
   "outputs": [
    {
     "data": {
      "text/plain": [
       "'abcd'"
      ]
     },
     "execution_count": 15,
     "metadata": {},
     "output_type": "execute_result"
    }
   ],
   "source": [
    "s ='abcdefghijklmnopqrstuvwxyz'\n",
    "s[0:4]"
   ]
  },
  {
   "cell_type": "markdown",
   "metadata": {},
   "source": [
    "(c)'defghijklmnopqrstuvwx'\n"
   ]
  },
  {
   "cell_type": "code",
   "execution_count": 16,
   "metadata": {},
   "outputs": [
    {
     "data": {
      "text/plain": [
       "'defghijklmnopqrstuvwx'"
      ]
     },
     "execution_count": 16,
     "metadata": {},
     "output_type": "execute_result"
    }
   ],
   "source": [
    "s = 'abcdefghijklmnopqrstuvwxyz'\n",
    "s[3:-2]"
   ]
  },
  {
   "cell_type": "markdown",
   "metadata": {},
   "source": [
    "(d)'wxy'\n"
   ]
  },
  {
   "cell_type": "code",
   "execution_count": 17,
   "metadata": {},
   "outputs": [
    {
     "data": {
      "text/plain": [
       "'wxy'"
      ]
     },
     "execution_count": 17,
     "metadata": {},
     "output_type": "execute_result"
    }
   ],
   "source": [
    "s = 'abcdefghijklmnopqrstuvwxyz'\n",
    "s[-4:-1]"
   ]
  },
  {
   "cell_type": "markdown",
   "metadata": {},
   "source": [
    "(e)'wxyz'"
   ]
  },
  {
   "cell_type": "code",
   "execution_count": 18,
   "metadata": {},
   "outputs": [
    {
     "data": {
      "text/plain": [
       "'wxyz'"
      ]
     },
     "execution_count": 18,
     "metadata": {},
     "output_type": "execute_result"
    }
   ],
   "source": [
    "s = 'abcdefghijklmnopqrstuvwxyz'\n",
    "s[-4:]"
   ]
  },
  {
   "cell_type": "markdown",
   "metadata": {},
   "source": [
    "# 4.13"
   ]
  },
  {
   "cell_type": "markdown",
   "metadata": {},
   "source": [
    "(a) The slice consisting of the second and third character of s is 'bc'.\n"
   ]
  },
  {
   "cell_type": "code",
   "execution_count": 19,
   "metadata": {},
   "outputs": [
    {
     "data": {
      "text/plain": [
       "'bc'"
      ]
     },
     "execution_count": 19,
     "metadata": {},
     "output_type": "execute_result"
    }
   ],
   "source": [
    "s ='abcdefghijklmnopqrstuvwxyz'\n",
    "s[1:3]"
   ]
  },
  {
   "cell_type": "markdown",
   "metadata": {},
   "source": [
    "(b) The slice consisting of the first 14 characters of s is 'abcdefghijklmn'.\n"
   ]
  },
  {
   "cell_type": "code",
   "execution_count": 20,
   "metadata": {},
   "outputs": [
    {
     "data": {
      "text/plain": [
       "'abcdefghijklmn'"
      ]
     },
     "execution_count": 20,
     "metadata": {},
     "output_type": "execute_result"
    }
   ],
   "source": [
    "s ='abcdefghijklmnopqrstuvwxyz'\n",
    "s[0:14]"
   ]
  },
  {
   "cell_type": "markdown",
   "metadata": {},
   "source": [
    "(c) The slice of s excluding the first 14 characters is 'opqrstuvwxyz'.\n"
   ]
  },
  {
   "cell_type": "code",
   "execution_count": 21,
   "metadata": {},
   "outputs": [
    {
     "data": {
      "text/plain": [
       "'opqrstuvwxyz'"
      ]
     },
     "execution_count": 21,
     "metadata": {},
     "output_type": "execute_result"
    }
   ],
   "source": [
    "s ='abcdefghijklmnopqrstuvwxyz'\n",
    "s[14:]"
   ]
  },
  {
   "cell_type": "markdown",
   "metadata": {},
   "source": [
    "(d) The slice of s excluding the first and last characters is 'bcdefghijklmnopqrstuvw'."
   ]
  },
  {
   "cell_type": "code",
   "execution_count": 22,
   "metadata": {},
   "outputs": [
    {
     "data": {
      "text/plain": [
       "'bcdefghijklmnopqrstuvw'"
      ]
     },
     "execution_count": 22,
     "metadata": {},
     "output_type": "execute_result"
    }
   ],
   "source": [
    "s ='abcdefghijklmnopqrstuvwxyz'\n",
    "s[1:23]"
   ]
  },
  {
   "cell_type": "markdown",
   "metadata": {},
   "source": [
    "# 4.14"
   ]
  },
  {
   "cell_type": "markdown",
   "metadata": {},
   "source": [
    "(a) Assign to variable log the next string, which happens to be a fragment of a log of a\n",
    "request for a text file from a web server:\n",
    "128.0.0.1 - - [12/Feb/2011:10:31:08 -0600] \"GET /docs/test.txt HTTP/1.0\"\n"
   ]
  },
  {
   "cell_type": "code",
   "execution_count": 23,
   "metadata": {},
   "outputs": [],
   "source": [
    "log='128.0.0.1 - - [12/Feb/2011:10:31:08 -0600] \"GET /docs/test.txt HTTP/1.0\"'"
   ]
  },
  {
   "cell_type": "markdown",
   "metadata": {},
   "source": [
    "(b) Assign to variable address the substring of log that ends before the first blank space\n",
    "in log, using the string method split() and the indexing operator.\n"
   ]
  },
  {
   "cell_type": "code",
   "execution_count": 24,
   "metadata": {},
   "outputs": [
    {
     "name": "stdout",
     "output_type": "stream",
     "text": [
      "128.0.0.1\n"
     ]
    }
   ],
   "source": [
    "address=log.split()[0]\n",
    "print (address)"
   ]
  },
  {
   "cell_type": "markdown",
   "metadata": {},
   "source": [
    "(c) Assign to variable date the splice of string log containing the date (12/Feb ...\n",
    "-6000), using the indexing operator on string log."
   ]
  },
  {
   "cell_type": "code",
   "execution_count": 40,
   "metadata": {},
   "outputs": [
    {
     "name": "stdout",
     "output_type": "stream",
     "text": [
      "12/Feb/2011:10:31:08 -0600\n"
     ]
    }
   ],
   "source": [
    "date=log[log.find(\"12/\"):log.find(\"]\")]\n",
    "print(date)"
   ]
  },
  {
   "cell_type": "markdown",
   "metadata": {},
   "source": [
    "# 4.15\n"
   ]
  },
  {
   "cell_type": "markdown",
   "metadata": {},
   "source": [
    "For each of the below string values of s, write the expression involving s and the string\n",
    "methods split() that evaluates to list:\n",
    "['10', '20', '30', '40', '50', '60']\n"
   ]
  },
  {
   "cell_type": "markdown",
   "metadata": {},
   "source": [
    "(a) s = '10 20 30 40 50 60'\n",
    "\n"
   ]
  },
  {
   "cell_type": "code",
   "execution_count": 41,
   "metadata": {},
   "outputs": [
    {
     "data": {
      "text/plain": [
       "['10', '20', '30', '40', '50', '60']"
      ]
     },
     "execution_count": 41,
     "metadata": {},
     "output_type": "execute_result"
    }
   ],
   "source": [
    "s = '10 20 30 40 50 60'\n",
    "s.split()"
   ]
  },
  {
   "cell_type": "markdown",
   "metadata": {},
   "source": [
    "(b) s = '10,20,30,40,50,60'\n"
   ]
  },
  {
   "cell_type": "code",
   "execution_count": 54,
   "metadata": {},
   "outputs": [
    {
     "data": {
      "text/plain": [
       "['10', '20', '30', '40', '50', '60']"
      ]
     },
     "execution_count": 54,
     "metadata": {},
     "output_type": "execute_result"
    }
   ],
   "source": [
    "s = '10,20,30,40,50,60'\n",
    "s.split(sep=\",\")"
   ]
  },
  {
   "cell_type": "markdown",
   "metadata": {},
   "source": [
    "(c) s = '10&20&30&40&50&60'\n"
   ]
  },
  {
   "cell_type": "code",
   "execution_count": 59,
   "metadata": {},
   "outputs": [
    {
     "data": {
      "text/plain": [
       "['10', '20', '30', '40', '50', '60']"
      ]
     },
     "execution_count": 59,
     "metadata": {},
     "output_type": "execute_result"
    }
   ],
   "source": [
    "s = '10&20&30&40&50&60'\n",
    "s.split(sep='&')\n",
    "\n"
   ]
  },
  {
   "cell_type": "markdown",
   "metadata": {},
   "source": [
    "(d) s = '10 - 20 - 30 - 40 - 50 - 60'"
   ]
  },
  {
   "cell_type": "code",
   "execution_count": 61,
   "metadata": {},
   "outputs": [
    {
     "data": {
      "text/plain": [
       "['10 ', ' 20 ', ' 30 ', ' 40 ', ' 50 ', ' 60']"
      ]
     },
     "execution_count": 61,
     "metadata": {},
     "output_type": "execute_result"
    }
   ],
   "source": [
    "s = '10 - 20 - 30 - 40 - 50 - 60'\n",
    "s.split(sep='-')"
   ]
  },
  {
   "cell_type": "markdown",
   "metadata": {},
   "source": [
    "# 4.16 \n",
    "Implement a program that requests three words (strings) from the user. Your program\n",
    "should print Boolean value True if the words were entered in dictionary order; otherwise\n",
    "nothing is printed.\n"
   ]
  },
  {
   "cell_type": "code",
   "execution_count": 76,
   "metadata": {},
   "outputs": [
    {
     "name": "stdout",
     "output_type": "stream",
     "text": [
      "Enter the first word: ali\n",
      "Enter the second word: bilal\n",
      "Enter the third word: sarah\n",
      "True\n"
     ]
    }
   ],
   "source": [
    "w_1=(input(\"Enter the first word: \"))\n",
    "w_2=(input(\"Enter the second word: \"))\n",
    "w_3=(input(\"Enter the third word: \"))\n",
    "if w_1 < w_2 and w_2 < w_3:\n",
    "    print (True)"
   ]
  },
  {
   "cell_type": "markdown",
   "metadata": {},
   "source": [
    "# 4.17 \n",
    "Translate each part into a Python statement using appropriate string methods:\n"
   ]
  },
  {
   "cell_type": "markdown",
   "metadata": {},
   "source": [
    "(a) Assign to variable message the string 'The secret of this message is that\n",
    "it is secret.'\n"
   ]
  },
  {
   "cell_type": "code",
   "execution_count": 78,
   "metadata": {},
   "outputs": [],
   "source": [
    "message='The secret of this message is that it is secret.'"
   ]
  },
  {
   "cell_type": "markdown",
   "metadata": {},
   "source": [
    "(b) Assign to variable length the length of string message, using operator len().\n"
   ]
  },
  {
   "cell_type": "code",
   "execution_count": 79,
   "metadata": {},
   "outputs": [
    {
     "data": {
      "text/plain": [
       "48"
      ]
     },
     "execution_count": 79,
     "metadata": {},
     "output_type": "execute_result"
    }
   ],
   "source": [
    "len(message)"
   ]
  },
  {
   "cell_type": "markdown",
   "metadata": {},
   "source": [
    "(c) Assign to variable count the number of times the substring 'secret' appears in\n",
    "string message, using string method count().\n"
   ]
  },
  {
   "cell_type": "code",
   "execution_count": 81,
   "metadata": {},
   "outputs": [
    {
     "data": {
      "text/plain": [
       "2"
      ]
     },
     "execution_count": 81,
     "metadata": {},
     "output_type": "execute_result"
    }
   ],
   "source": [
    "message.count('secret')"
   ]
  },
  {
   "cell_type": "markdown",
   "metadata": {},
   "source": [
    "(d) Assign to variable censored a copy of string message with every occurrence of\n",
    "substring 'secret' replaced by 'xxxxxx', using string method replace()."
   ]
  },
  {
   "cell_type": "code",
   "execution_count": 83,
   "metadata": {},
   "outputs": [
    {
     "data": {
      "text/plain": [
       "'The xxxxxx of this message is that it is xxxxxx.'"
      ]
     },
     "execution_count": 83,
     "metadata": {},
     "output_type": "execute_result"
    }
   ],
   "source": [
    "censored=message.replace('secret','xxxxxx')\n",
    "censored"
   ]
  },
  {
   "cell_type": "markdown",
   "metadata": {},
   "source": [
    "# 4.18\n",
    "Suppose variable s has been assigned in this way:\n",
    "s = '''It was the best of times, it was the worst of times; it\n",
    "was the age of wisdom, it was the age of foolishness; it was the\n",
    "epoch of belief, it was the epoch of incredulity; it was ... '''\n",
    "(The beginning of A Tale of Two Cities by Charles Dickens.) Then do the following, in order:\n"
   ]
  },
  {
   "cell_type": "markdown",
   "metadata": {},
   "source": [
    "(a) Write a sequence of statements that produce a copy of s, named newS, in which characters ., ,, ;, and \\n have been replaced by blank spaces.\n",
    "\n",
    " "
   ]
  },
  {
   "cell_type": "code",
   "execution_count": 106,
   "metadata": {
    "scrolled": false
   },
   "outputs": [
    {
     "data": {
      "text/plain": [
       "'It was the best of times  it was the worst of times  it was the age of wisdom  it was the age of foolishness  it was the epoch of belief  it was the epoch of incredulity  it was     '"
      ]
     },
     "execution_count": 106,
     "metadata": {},
     "output_type": "execute_result"
    }
   ],
   "source": [
    "s = '''It was the best of times, it was the worst of times; it was the age of wisdom, it was the age of foolishness; it was the epoch of belief, it was the epoch of incredulity; it was ... '''  \n",
    "tranS=s.maketrans('.,:;\\n','     ')\n",
    "newS=s.translate(tranS)\n",
    "newS"
   ]
  },
  {
   "cell_type": "markdown",
   "metadata": {},
   "source": [
    "(b) Remove leading and trailing blank spaces in newS (and name the new string newS).\n"
   ]
  },
  {
   "cell_type": "code",
   "execution_count": 115,
   "metadata": {},
   "outputs": [
    {
     "data": {
      "text/plain": [
       "'It was the best of times, it was the worst of times; it was the age of wisdom, it was the age of foolishness; it was the epoch of belief, it was the epoch of incredulity; it was ...'"
      ]
     },
     "execution_count": 115,
     "metadata": {},
     "output_type": "execute_result"
    }
   ],
   "source": [
    "s = 'It was the best of times, it was the worst of times; it was the age of wisdom, it was the age of foolishness; it was the epoch of belief, it was the epoch of incredulity; it was ... '  \n",
    "newS=s.strip()\n",
    "newS"
   ]
  },
  {
   "cell_type": "markdown",
   "metadata": {},
   "source": [
    "(c) Make all the characters in newS lowercase (and name the new string newS).\n"
   ]
  },
  {
   "cell_type": "code",
   "execution_count": 116,
   "metadata": {},
   "outputs": [
    {
     "data": {
      "text/plain": [
       "'it was the best of times, it was the worst of times; it was the age of wisdom, it was the age of foolishness; it was the epoch of belief, it was the epoch of incredulity; it was ... '"
      ]
     },
     "execution_count": 116,
     "metadata": {},
     "output_type": "execute_result"
    }
   ],
   "source": [
    "s = 'It was the best of times, it was the worst of times; it was the age of wisdom, it was the age of foolishness; it was the epoch of belief, it was the epoch of incredulity; it was ... '  \n",
    "newS=s.lower()\n",
    "newS"
   ]
  },
  {
   "cell_type": "markdown",
   "metadata": {},
   "source": [
    "(d) Compute the number of occurrences in newS of string 'it was'.\n"
   ]
  },
  {
   "cell_type": "code",
   "execution_count": 117,
   "metadata": {},
   "outputs": [
    {
     "data": {
      "text/plain": [
       "6"
      ]
     },
     "execution_count": 117,
     "metadata": {},
     "output_type": "execute_result"
    }
   ],
   "source": [
    "s = 'It was the best of times, it was the worst of times; it was the age of wisdom, it was the age of foolishness; it was the epoch of belief, it was the epoch of incredulity; it was ... '  \n",
    "newS=s.count('it was')\n",
    "newS"
   ]
  },
  {
   "cell_type": "markdown",
   "metadata": {},
   "source": [
    "(e) Change every occurrence of was to is (and name the new string newS).\n"
   ]
  },
  {
   "cell_type": "code",
   "execution_count": 118,
   "metadata": {},
   "outputs": [
    {
     "data": {
      "text/plain": [
       "'It is the best of times, it is the worst of times; it is the age of wisdom, it is the age of foolishness; it is the epoch of belief, it is the epoch of incredulity; it is ... '"
      ]
     },
     "execution_count": 118,
     "metadata": {},
     "output_type": "execute_result"
    }
   ],
   "source": [
    "s = 'It was the best of times, it was the worst of times; it was the age of wisdom, it was the age of foolishness; it was the epoch of belief, it was the epoch of incredulity; it was ... '  \n",
    "newS=s.replace('was','is')\n",
    "newS"
   ]
  },
  {
   "cell_type": "markdown",
   "metadata": {},
   "source": [
    "(f) Split newS into a list of words and name the list listS."
   ]
  },
  {
   "cell_type": "code",
   "execution_count": 121,
   "metadata": {},
   "outputs": [
    {
     "name": "stdout",
     "output_type": "stream",
     "text": [
      "['It', 'was', 'the', 'best', 'of', 'times,', 'it', 'was', 'the', 'worst', 'of', 'times;', 'it', 'was', 'the', 'age', 'of', 'wisdom,', 'it', 'was', 'the', 'age', 'of', 'foolishness;', 'it', 'was', 'the', 'epoch', 'of', 'belief,', 'it', 'was', 'the', 'epoch', 'of', 'incredulity;', 'it', 'was', '...']\n"
     ]
    }
   ],
   "source": [
    "s = 'It was the best of times, it was the worst of times; it was the age of wisdom, it was the age of foolishness; it was the epoch of belief, it was the epoch of incredulity; it was ... '  \n",
    "newS=s.split()\n",
    "listS=s.split()\n",
    "print(listS)"
   ]
  },
  {
   "cell_type": "markdown",
   "metadata": {},
   "source": [
    "# 4.19\n",
    "Write Python statements that print the next formatted outputs using the already assigned variables first, middle, and last:\n",
    "\n",
    ">>> first = 'Marlena'\n",
    ">>> last = 'Sigel'\n",
    ">>> middle = 'Mae'"
   ]
  },
  {
   "cell_type": "markdown",
   "metadata": {},
   "source": [
    "(a) Sigel, Marlena Mae\n"
   ]
  },
  {
   "cell_type": "code",
   "execution_count": 129,
   "metadata": {},
   "outputs": [
    {
     "name": "stdout",
     "output_type": "stream",
     "text": [
      "Sigel Marlena Mae\n"
     ]
    }
   ],
   "source": [
    "first = 'Marlena'\n",
    "last = 'Sigel'\n",
    "middle = 'Mae'\n",
    "print(\"{0} {1} {2}\" .format(last,first,middle))"
   ]
  },
  {
   "cell_type": "markdown",
   "metadata": {},
   "source": [
    "(b) Sigel, Marlena M.\n"
   ]
  },
  {
   "cell_type": "code",
   "execution_count": 131,
   "metadata": {},
   "outputs": [
    {
     "name": "stdout",
     "output_type": "stream",
     "text": [
      "Sigel, Marlena M.\n"
     ]
    }
   ],
   "source": [
    "print(\"{0}, {1} {2}.\" .format(last,first,middle[0:1]))"
   ]
  },
  {
   "cell_type": "markdown",
   "metadata": {},
   "source": [
    "(c) Marlena M. Sigel\n"
   ]
  },
  {
   "cell_type": "code",
   "execution_count": 132,
   "metadata": {},
   "outputs": [
    {
     "name": "stdout",
     "output_type": "stream",
     "text": [
      "Marlena M. Sigel\n"
     ]
    }
   ],
   "source": [
    "print(\"{0} {1}. {2}\" .format(first,middle[0:1],last))"
   ]
  },
  {
   "cell_type": "markdown",
   "metadata": {},
   "source": [
    "(d) M. M. Sigel\n"
   ]
  },
  {
   "cell_type": "code",
   "execution_count": 134,
   "metadata": {},
   "outputs": [
    {
     "name": "stdout",
     "output_type": "stream",
     "text": [
      "M. M. Sigel\n"
     ]
    }
   ],
   "source": [
    " print(\"{0}. {1}. {2}\" .format(first[0:1],middle[0:1],last)) "
   ]
  },
  {
   "cell_type": "markdown",
   "metadata": {},
   "source": [
    "(e) Sigel, M.\n"
   ]
  },
  {
   "cell_type": "code",
   "execution_count": 137,
   "metadata": {},
   "outputs": [
    {
     "name": "stdout",
     "output_type": "stream",
     "text": [
      "Sigel, M.\n"
     ]
    }
   ],
   "source": [
    " print(\"{1}, {0}.\" .format(middle[0:1],last)) "
   ]
  },
  {
   "cell_type": "markdown",
   "metadata": {},
   "source": [
    "# 4.20\n",
    "Given string values for the sender, recipient, and subject of an email, write a string\n",
    "format expression that uses variables sender, recipient, and subject and that prints as\n",
    "shown here:\n",
    ">>> sender = 'tim@abc.com'\n",
    ">>> recipient = 'tom@xyz.org'\n",
    ">>> subject = 'Hello!'\n",
    ">>> print(???) # fill in\n",
    "From: tim@abc.com\n",
    "To: tom@xyz.org\n",
    "Subject: Hello!\n"
   ]
  },
  {
   "cell_type": "code",
   "execution_count": 140,
   "metadata": {},
   "outputs": [
    {
     "name": "stdout",
     "output_type": "stream",
     "text": [
      "From: tim@abc.com \n",
      "To: tom@xyz.org \n",
      "Subject: Hello!\n"
     ]
    }
   ],
   "source": [
    "sender = 'tim@abc.com'\n",
    "recipient = 'tom@xyz.org'\n",
    "subject = 'Hello!'\n",
    "print(\"From: {0} \\nTo: {1} \\nSubject: {2}\". format(sender,recipient, subject )) "
   ]
  },
  {
   "cell_type": "markdown",
   "metadata": {},
   "source": [
    "# 4.21\n",
    "Write Python statements that print the values of π and the Euler constant e in the\n",
    "shown formats:\n"
   ]
  },
  {
   "cell_type": "markdown",
   "metadata": {},
   "source": [
    "(a) pi = 3.1, e = 2.7\n"
   ]
  },
  {
   "cell_type": "code",
   "execution_count": 149,
   "metadata": {},
   "outputs": [
    {
     "name": "stdout",
     "output_type": "stream",
     "text": [
      "pi=3.1, e=2.7\n"
     ]
    }
   ],
   "source": [
    "from math import pi\n",
    "from math import e\n",
    "print(\"pi={0:2.1f}, e={1:2.1f}\".format(pi,e))"
   ]
  },
  {
   "cell_type": "markdown",
   "metadata": {},
   "source": [
    "(b) pi = 3.14, e = 2.72\n"
   ]
  },
  {
   "cell_type": "code",
   "execution_count": 151,
   "metadata": {},
   "outputs": [
    {
     "name": "stdout",
     "output_type": "stream",
     "text": [
      "pi=3.14, e=2.72\n"
     ]
    }
   ],
   "source": [
    "from math import pi\n",
    "from math import e\n",
    "print(\"pi={0:3.2f}, e={1:3.2f}\".format(pi,e))"
   ]
  },
  {
   "cell_type": "markdown",
   "metadata": {},
   "source": [
    "(c) pi = 3.141593e+00, e = 2.718282e+00\n"
   ]
  },
  {
   "cell_type": "code",
   "execution_count": 154,
   "metadata": {},
   "outputs": [
    {
     "name": "stdout",
     "output_type": "stream",
     "text": [
      "pi=3.141593e+00, e=2.718282e+00\n"
     ]
    }
   ],
   "source": [
    "from math import pi\n",
    "from math import e\n",
    "print(\"pi={0:e}, e={1:e}\".format(pi,e))"
   ]
  },
  {
   "cell_type": "markdown",
   "metadata": {},
   "source": [
    "(d) pi = 3.14159, e = 2.71828"
   ]
  },
  {
   "cell_type": "markdown",
   "metadata": {},
   "source": [
    "# Problems"
   ]
  },
  {
   "cell_type": "markdown",
   "metadata": {},
   "source": [
    "# 4.22\n",
    "Write a function month() that takes a number between 1 and 12 as input and returns\n",
    "the three-character abbreviation of the corresponding month. Do this without using an if\n",
    "statement, just string operations. Hint: Use a string to store the abbreviations in order.\n",
    ">>> month(1)\n",
    "'Jan'\n",
    ">>> month(11)\n",
    "'Nov'\n"
   ]
  },
  {
   "cell_type": "code",
   "execution_count": 174,
   "metadata": {},
   "outputs": [
    {
     "name": "stdout",
     "output_type": "stream",
     "text": [
      "Enter number between 1 to 12: 5\n"
     ]
    }
   ],
   "source": [
    "def month():\n",
    "    month='JanFebMarAprMayJunJulAugSepOctNovDec'\n",
    "    num=(input(\"Enter number between 1 to 12: \"))\n",
    "    if num==1:\n",
    "            print (month[0:3])\n",
    "    elif num==2:\n",
    "            print (month[3:6])\n",
    "    elif num==3:\n",
    "            print (month[6:9])\n",
    "    elif num==4:\n",
    "            print (month[9:11])\n",
    "    elif num==5:\n",
    "            print (month[11:14])\n",
    "    elif num==6:\n",
    "            print (month[14:17]) \n",
    "    elif num==7:\n",
    "            print (month[17:21])\n",
    "    elif num==8:\n",
    "            print (month[21:25])\n",
    "    elif num==9:\n",
    "            print (month[25:29])\n",
    "    elif num==10:\n",
    "            print (month[29:33])\n",
    "    elif num==11:\n",
    "            print (month[33:37])\n",
    "    elif num==12:\n",
    "            print (month[37:41])            \n",
    "month()"
   ]
  },
  {
   "cell_type": "markdown",
   "metadata": {},
   "source": [
    "# 4.23\n",
    "Write a function average() that takes no input but requests that the user enter a\n",
    "sentence. Your function should return the average length of a word in the sentence.\n"
   ]
  },
  {
   "cell_type": "code",
   "execution_count": 188,
   "metadata": {},
   "outputs": [
    {
     "name": "stdout",
     "output_type": "stream",
     "text": [
      "Enter a sentence: She bought an umbrella!\n"
     ]
    },
    {
     "data": {
      "text/plain": [
       "5.0"
      ]
     },
     "execution_count": 188,
     "metadata": {},
     "output_type": "execute_result"
    }
   ],
   "source": [
    "def average():\n",
    "    s = (input(\"Enter a sentence: \"))\n",
    "    words = s.split()\n",
    "    return sum(len(word) for word in words)/len(words)\n",
    "average()"
   ]
  },
  {
   "cell_type": "markdown",
   "metadata": {},
   "source": [
    "# 4.24\n",
    "Implement function cheer() that takes as input a team name (as a string) and prints\n",
    "a cheer as shown:\n",
    ">>> cheer('Huskies')\n",
    "How do you spell winner?\n",
    "I know, I know!\n",
    "H U S K I E S !\n",
    "And that's how you spell winner!\n",
    "Go Huskies!\n"
   ]
  },
  {
   "cell_type": "code",
   "execution_count": 54,
   "metadata": {},
   "outputs": [
    {
     "name": "stdout",
     "output_type": "stream",
     "text": [
      "Enter your team name: huskies\n",
      "cheer ('huskies')\n",
      "How do you spell winner? \n",
      "I know, I know!\n",
      "HUSKIES\n",
      "And that's how you spell winner! \n",
      "Go huskies !\n"
     ]
    }
   ],
   "source": [
    "def cheer():\n",
    "    team=input(\"Enter your team name: \")\n",
    "    print(\"cheer ('{0}')\". format(team))\n",
    "    print(\"How do you spell winner? \\nI know, I know!\")\n",
    "    print(team.upper())\n",
    "    print(\"And that's how you spell winner! \\nGo\", team, \"!\")\n",
    "cheer()"
   ]
  },
  {
   "cell_type": "markdown",
   "metadata": {},
   "source": [
    "# 4.25 \n",
    "Write function vowelCount() that takes a string as input and counts and prints the\n",
    "number of occurrences of vowels in the string.\n",
    ">>> vowelCount('Le Tour de France')\n",
    "a, e, i, o, and u appear, respectively, 1, 3, 0, 1, 1 times.\n"
   ]
  },
  {
   "cell_type": "code",
   "execution_count": 202,
   "metadata": {},
   "outputs": [
    {
     "name": "stdout",
     "output_type": "stream",
     "text": [
      "Enter a sentence: Le Tour de France\n"
     ]
    }
   ],
   "source": [
    "def vowelcount():\n",
    "    string=input(\"Enter a sentence: \")\n",
    "    for i in string:\n",
    "        if i=='aeiouAEIOU':\n",
    "            text.count(i)\n",
    "vowelcount()"
   ]
  },
  {
   "cell_type": "markdown",
   "metadata": {},
   "source": [
    "# 4.26\n",
    "The cryptography function crypto() takes as input a string (i.e., the name of a file in\n",
    "the current directory). The function should print the file on the screen with this modification:\n",
    "Every occurrence of string 'secret' in the file should be replaced with string 'xxxxxx'.\n",
    "File: crypto.txt >>> crypto('crypto.txt')\n",
    "I will tell you my xxxxxx. But first, I have to explain\n",
    "why it is a xxxxxx.\n",
    "And that is all I will tell you about my xxxxxx.\n"
   ]
  },
  {
   "cell_type": "markdown",
   "metadata": {},
   "source": [
    "# 4.27\n",
    "Write a function fcopy() that takes as input two file names (as strings) and copies\n",
    "the content of the first file into the second.\n",
    "File: example.txt >>> fcopy('example.txt','output.txt')\n",
    ">>> open('output.txt').read()\n",
    "'The 3 lines in this file end with the new line character.\\n\\n\n",
    "There is a blank line above this line.\\n' "
   ]
  },
  {
   "cell_type": "markdown",
   "metadata": {},
   "source": [
    "# 4.28 \n",
    "Implement function links() that takes as input the name of an HTML file (as a\n",
    "string) and returns the number of hyperlinks in that file. To do this you will assume that\n",
    "each hyperlink appears in an anchor tag. You also need to know that every anchor tag ends\n",
    "with the substring </a>.\n",
    "Test your code on HTML file twolinks.html or any HTML file downloaded from the\n",
    "web into the folder where your program is.\n",
    ">>> links('twolinks.html') \n",
    "2\n"
   ]
  },
  {
   "cell_type": "code",
   "execution_count": null,
   "metadata": {},
   "outputs": [],
   "source": []
  }
 ],
 "metadata": {
  "kernelspec": {
   "display_name": "Python 3",
   "language": "python",
   "name": "python3"
  },
  "language_info": {
   "codemirror_mode": {
    "name": "ipython",
    "version": 3
   },
   "file_extension": ".py",
   "mimetype": "text/x-python",
   "name": "python",
   "nbconvert_exporter": "python",
   "pygments_lexer": "ipython3",
   "version": "3.7.3"
  }
 },
 "nbformat": 4,
 "nbformat_minor": 2
}
